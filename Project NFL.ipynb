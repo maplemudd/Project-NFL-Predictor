{
 "cells": [
  {
   "cell_type": "code",
   "execution_count": 2,
   "metadata": {},
   "outputs": [],
   "source": [
    "def load_and_prepare_data(year, file_prefix, columns, offense=True):\n",
    "    file_suffix = 'OFF' if offense else 'DEF'\n",
    "    file_path = f'{file_prefix}{year}{file_suffix}.csv'\n",
    "    if not os.path.exists(file_path):\n",
    "        print(f\"File not found: {file_path}\")\n",
    "        return pd.DataFrame()  \n",
    "    data = pd.read_csv(file_path)\n",
    "    data['Year'] = year\n",
    "    data = data[1:33]\n",
    "    data.columns = columns\n",
    "    data['Year'] = data['Year'].astype('int')\n",
    "    return data\n",
    "\n"
   ]
  },
  {
   "cell_type": "code",
   "execution_count": 3,
   "metadata": {},
   "outputs": [],
   "source": [
    "offensive_columns = [\n",
    "    'O_Rank', 'Team', 'O_Games_Played', 'O_Points_For', 'O_Total_Yards',\n",
    "    'O_Plays', 'O_Y/Play', 'O_TO', 'O_Fumbles_Lost', 'O_1st_D', 'O_P_Completions',\n",
    "    'O_P_Attempts', 'O_P_Yards', 'O_P_TD', 'O_P_Int', 'O_P_Y/PA', 'O_P_Passing_1st_D',\n",
    "    'O_R_Att', 'O_R_Yards', 'O_R_TD', 'O_R_Y/A', 'O_R_1st_D', 'O_Pe', 'O_Pe_Yards',\n",
    "    'O_Pe_1st_D', 'O_Scoring_Drives', 'O_TO_%', 'O_Expected_Points', 'Year'\n",
    "]"
   ]
  },
  {
   "cell_type": "code",
   "execution_count": 4,
   "metadata": {},
   "outputs": [],
   "source": [
    "defensive_columns = [\n",
    "    'D_Rank', 'Team', 'D_Games_Played', 'D_Points_Allowed', 'D_Total_Yards',\n",
    "    'D_Plays', 'D_Y/Play', 'D_TD', 'D_Fumbles_Lost', 'D_1st_D', 'D_P_Completions',\n",
    "    'D_P_Attempts', 'D_P_Yards', 'D_P_TD', 'D_P_Int', 'D_P_Y/PA', 'D_P_Passing_1st_D',\n",
    "    'D_R_Att', 'D_R_Yards', 'D_R_TD', 'D_R_Y/A', 'D_R_1st_D', 'D_Pe', 'D_Pe_Yards',\n",
    "    'D_Pe_1st_D', 'D_Scoring_Drives', 'D_TD_%', 'D_Expected_Points', 'Year'\n",
    "]\n",
    "\n",
    "years = [2023, 2022, 2021, 2020, 2019, 2018, 2017, 2016, 2015, 2014]"
   ]
  },
  {
   "cell_type": "code",
   "execution_count": 5,
   "metadata": {},
   "outputs": [],
   "source": [
    "offensive_data = [load_and_prepare_data(year, 'NFL-', offensive_columns, offense=True) for year in years]\n",
    "defensive_data = [load_and_prepare_data(year, 'NFL-', defensive_columns, offense=False) for year in years]\n",
    "\n",
    "OFF_total = pd.concat(offensive_data)\n",
    "DEF_total = pd.concat(defensive_data)"
   ]
  },
  {
   "cell_type": "code",
   "execution_count": 6,
   "metadata": {},
   "outputs": [],
   "source": [
    "# Merge offensive and defensive data\n",
    "combined_data = OFF_total.merge(DEF_total, on=['Team', 'Year'])"
   ]
  },
  {
   "cell_type": "code",
   "execution_count": 7,
   "metadata": {},
   "outputs": [],
   "source": [
    "# Load and prepare the 2024 data(2024 current ranks for offense and defense)\n",
    "OFF_2024 = load_and_prepare_data(2024, 'NFL-', offensive_columns, offense=True)\n",
    "DEF_2024 = load_and_prepare_data(2024, 'NFL-', defensive_columns, offense=False)\n",
    "\n",
    "testing_set = OFF_2024.merge(DEF_2024, on=['Team', 'Year'])\n",
    "testing_set.to_csv(r'C:\\Users\\richa\\ProjectNFL\\testingset.csv', index=False)"
   ]
  },
  {
   "cell_type": "code",
   "execution_count": null,
   "metadata": {},
   "outputs": [],
   "source": [
    "# Combine the testing set with the combined data\n",
    "mydata = pd.concat([testing_set, combined_data])\n",
    "mydata.head()"
   ]
  },
  {
   "cell_type": "code",
   "execution_count": 9,
   "metadata": {},
   "outputs": [],
   "source": [
    "# Convert columns to float\n",
    "total_columns = [\n",
    "    'O_Games_Played', 'O_Points_For', 'O_Total_Yards', 'O_Plays', 'O_Y/Play',\n",
    "    'O_TO', 'O_Fumbles_Lost', 'O_1st_D', 'O_P_Completions', 'O_P_Attempts',\n",
    "    'O_P_Yards', 'O_P_TD', 'O_P_Int', 'O_P_Y/PA', 'O_P_Passing_1st_D', 'O_R_Att',\n",
    "    'O_R_Yards', 'O_R_TD', 'O_R_Y/A', 'O_R_1st_D', 'O_Pe', 'O_Pe_Yards',\n",
    "    'O_Pe_1st_D', 'O_Scoring_Drives', 'O_TO_%', 'O_Expected_Points',\n",
    "    'D_Games_Played', 'D_Points_Allowed', 'D_Total_Yards', 'D_Plays', 'D_Y/Play',\n",
    "    'D_TD', 'D_Fumbles_Lost', 'D_1st_D', 'D_P_Completions', 'D_P_Attempts',\n",
    "    'D_P_Yards', 'D_P_TD', 'D_P_Int', 'D_P_Y/PA', 'D_P_Passing_1st_D', 'D_R_Att',\n",
    "    'D_R_Yards', 'D_R_TD', 'D_R_Y/A', 'D_R_1st_D', 'D_Pe', 'D_Pe_Yards',\n",
    "    'D_Pe_1st_D', 'D_Scoring_Drives', 'D_TD_%', 'D_Expected_Points'\n",
    "]\n",
    "\n",
    "mydata[total_columns] = mydata[total_columns].astype('float')"
   ]
  },
  {
   "cell_type": "code",
   "execution_count": null,
   "metadata": {},
   "outputs": [],
   "source": [
    "mydata['Superbowl'] = 0\n",
    "superbowl = pd.read_csv('superbowl.csv')\n",
    "superbowl.head()"
   ]
  },
  {
   "cell_type": "code",
   "execution_count": 11,
   "metadata": {},
   "outputs": [],
   "source": [
    "superbowl['Date'] = pd.to_datetime(superbowl['Date'])"
   ]
  },
  {
   "cell_type": "code",
   "execution_count": null,
   "metadata": {},
   "outputs": [],
   "source": [
    "superbowl['Year'] = pd.DatetimeIndex(superbowl['Date']).year\n",
    "superbowl= superbowl[['Year', 'Winner']]\n",
    "superbowl.head()"
   ]
  },
  {
   "cell_type": "code",
   "execution_count": 13,
   "metadata": {},
   "outputs": [],
   "source": [
    "superbowl['Year'] = superbowl['Year'] - 1"
   ]
  },
  {
   "cell_type": "code",
   "execution_count": 14,
   "metadata": {},
   "outputs": [],
   "source": [
    "superbowl.Year = superbowl.Year.astype('object')"
   ]
  },
  {
   "cell_type": "code",
   "execution_count": 15,
   "metadata": {},
   "outputs": [],
   "source": [
    "superbowl['Superbowl'] = 1"
   ]
  },
  {
   "cell_type": "code",
   "execution_count": null,
   "metadata": {},
   "outputs": [],
   "source": [
    "superbowl.Year = superbowl.Year.astype('int')\n",
    "mydata.Year = mydata.Year.astype('int')\n",
    "\n",
    "test = pd.merge(mydata, superbowl, left_on = ['Year','Team'], right_on = ['Year', 'Winner'], how = 'left')\n",
    "test['Superbowl_y'].value_counts()"
   ]
  },
  {
   "cell_type": "code",
   "execution_count": 17,
   "metadata": {},
   "outputs": [],
   "source": [
    "test.drop(['Superbowl_x', 'Winner'], axis=1, inplace = True)"
   ]
  },
  {
   "cell_type": "code",
   "execution_count": 18,
   "metadata": {},
   "outputs": [],
   "source": [
    "pd.set_option('display.max_rows', 500)\n",
    "test.Superbowl_y = test.Superbowl_y.fillna(0)\n",
    "test.Superbowl_y = test.Superbowl_y.astype('int')\n",
    "test.rename(columns = {'Superbowl_y': 'Superbowl'}, inplace = True)"
   ]
  },
  {
   "cell_type": "code",
   "execution_count": null,
   "metadata": {},
   "outputs": [],
   "source": [
    "test.dtypes\n",
    "test.Superbowl.sum()"
   ]
  },
  {
   "cell_type": "code",
   "execution_count": 20,
   "metadata": {},
   "outputs": [],
   "source": [
    "# Import necessary libraries\n",
    "import sys\n",
    "import pylab as pl\n",
    "import scipy.optimize as opt\n",
    "from sklearn import preprocessing\n",
    "%matplotlib inline \n",
    "import matplotlib.pyplot as plt\n"
   ]
  },
  {
   "cell_type": "code",
   "execution_count": null,
   "metadata": {},
   "outputs": [],
   "source": [
    "test"
   ]
  },
  {
   "cell_type": "code",
   "execution_count": 22,
   "metadata": {},
   "outputs": [],
   "source": [
    "# Set print options for numpy\n",
    "np.set_printoptions(threshold=sys.maxsize)\n"
   ]
  },
  {
   "cell_type": "code",
   "execution_count": 23,
   "metadata": {},
   "outputs": [],
   "source": [
    "# Convert ranks to integers\n",
    "test.O_Rank = test.O_Rank.astype(int)\n",
    "test.D_Rank = test.D_Rank.astype(int)\n",
    "\n",
    "# Define features for training columns\n",
    "training_columns = [\n",
    "    'O_Rank', 'O_Points_For', 'O_Total_Yards', 'O_Y/Play', 'O_TO', 'O_1st_D',\n",
    "    'O_P_Completions', 'O_P_Yards', 'O_P_TD', 'O_P_Int', 'O_P_Y/PA', 'O_P_Passing_1st_D',\n",
    "    'O_R_Yards', 'O_R_TD', 'O_R_Y/A', 'O_R_1st_D', 'O_Pe', 'O_Pe_Yards',\n",
    "    'O_Scoring_Drives', 'D_Rank', 'D_Points_Allowed', 'D_Total_Yards',\n",
    "    'D_Y/Play', 'D_TD', 'D_Fumbles_Lost', 'D_1st_D', 'D_P_Completions',\n",
    "    'D_P_Yards', 'D_P_TD', 'D_P_Int', 'D_P_Y/PA', 'D_P_Passing_1st_D',\n",
    "    'D_R_Yards', 'D_R_TD', 'D_R_Y/A', 'D_R_1st_D', 'D_Pe', 'D_Pe_Yards',\n",
    "    'D_Scoring_Drives'\n",
    "]\n",
    "\n",
    "# Prepare data\n",
    "X = test[training_columns].values\n",
    "y = test['Superbowl'].values"
   ]
  },
  {
   "cell_type": "code",
   "execution_count": 24,
   "metadata": {},
   "outputs": [],
   "source": [
    "from sklearn import preprocessing\n",
    "# Standardize the training columns\n",
    "X = preprocessing.StandardScaler().fit_transform(X)"
   ]
  },
  {
   "cell_type": "code",
   "execution_count": null,
   "metadata": {},
   "outputs": [],
   "source": [
    "# Select training and testing data\n",
    "teams = test.loc[ :31 , 'Team']\n",
    "\n",
    "O_rank = test.loc[0:31, 'O_Rank']\n",
    "D_rank = test.loc[0:31, 'D_Rank']\n",
    "\n",
    "X_test = X[0:32]\n",
    "X_train = X[32:]\n",
    "\n",
    "y_test = y[0:32]\n",
    "y_train = y[32:]\n",
    "\n",
    "print(X_test.shape)\n",
    "print(y_test.shape)\n",
    "print(X_train.shape)\n",
    "print(y_train.shape)\n",
    "\n"
   ]
  },
  {
   "cell_type": "code",
   "execution_count": null,
   "metadata": {},
   "outputs": [],
   "source": [
    "from sklearn.linear_model import LogisticRegression\n",
    "from sklearn.metrics import confusion_matrix\n",
    "LR = LogisticRegression(C=0.01, solver='liblinear').fit(X_train,y_train)\n",
    "predicts = LR.predict(X_test)\n",
    "predicts"
   ]
  },
  {
   "cell_type": "code",
   "execution_count": null,
   "metadata": {},
   "outputs": [],
   "source": [
    "from sklearn import metrics\n",
    "\n",
    "# Evaluate Logistic Regression Model\n",
    "predicts_binary = LR.predict(X_train)\n",
    "print(\"Logistic Regression Accuracy:\", metrics.accuracy_score(y_train, predicts_binary))"
   ]
  },
  {
   "cell_type": "code",
   "execution_count": null,
   "metadata": {},
   "outputs": [],
   "source": [
    "# Predictions DataFrame for Logistic Regression\n",
    "predictions = pd.DataFrame({'Team': teams, 'Predictions': predicts})\n",
    "predictions"
   ]
  },
  {
   "cell_type": "code",
   "execution_count": null,
   "metadata": {},
   "outputs": [],
   "source": [
    "predicts_prob = LR.predict_proba(X_test)\n",
    "predicts_prob"
   ]
  },
  {
   "cell_type": "code",
   "execution_count": 30,
   "metadata": {},
   "outputs": [],
   "source": [
    "# Prepare predictions DataFrame with probabilities\n",
    "predictions2 = pd.DataFrame({\n",
    "    'Team': teams,\n",
    "    'Prediction': predicts_prob[:, 1],\n",
    "    'O_Rank': O_rank,\n",
    "    'D_Rank': D_rank\n",
    "}).sort_values(by='Prediction', ascending=False)\n",
    "predictions2['Prediction_Rank'] = predictions2['Prediction'].rank(ascending=False)"
   ]
  },
  {
   "cell_type": "code",
   "execution_count": 31,
   "metadata": {},
   "outputs": [],
   "source": [
    "# AdaBoost with SVC\n",
    "from sklearn.ensemble import AdaBoostClassifier\n",
    "\n",
    "from sklearn.svm import SVC\n",
    "from sklearn import metrics\n",
    "\n",
    "svc = SVC(probability=True, kernel='linear')\n",
    "abc = AdaBoostClassifier(n_estimators=20, estimator=svc, learning_rate=1)\n",
    "model = abc.fit(X_train, y_train)"
   ]
  },
  {
   "cell_type": "code",
   "execution_count": 32,
   "metadata": {},
   "outputs": [],
   "source": [
    "# AdaBoost Predictions\n",
    "y_pred_binary = model.predict(X_train)\n",
    "y_pred = model.predict_proba(X_test)"
   ]
  },
  {
   "cell_type": "code",
   "execution_count": 33,
   "metadata": {},
   "outputs": [],
   "source": [
    "# Prepare predictions DataFrame for AdaBoost\n",
    "predictions3 = pd.DataFrame({\n",
    "    'Team': teams,\n",
    "    'Prediction': y_pred[:, 1],\n",
    "    'O_Rank': O_rank,\n",
    "    'D_Rank': D_rank\n",
    "}).sort_values(by='Prediction', ascending=False)\n",
    "predictions3['Prediction_Rank'] = predictions3['Prediction'].rank(ascending=False)"
   ]
  },
  {
   "cell_type": "code",
   "execution_count": null,
   "metadata": {},
   "outputs": [],
   "source": [
    "predictions3"
   ]
  },
  {
   "cell_type": "code",
   "execution_count": null,
   "metadata": {},
   "outputs": [],
   "source": [
    "# Calculate Average and New Rank\n",
    "df = predictions3.copy()\n",
    "df['Average_Rank'] = (df['O_Rank'] + df['D_Rank']) / 2\n",
    "df['New_Rank'] = df['Average_Rank'].rank(method='dense')\n",
    "df = df.sort_values(by='New_Rank').reset_index(drop=True)\n",
    "df"
   ]
  },
  {
   "cell_type": "code",
   "execution_count": null,
   "metadata": {},
   "outputs": [],
   "source": [
    "# Print final DataFrame\n",
    "print(df[['Team', 'O_Rank', 'D_Rank', 'Average_Rank', 'New_Rank']])"
   ]
  },
  {
   "cell_type": "code",
   "execution_count": 37,
   "metadata": {},
   "outputs": [],
   "source": [
    "import pandas as pd\n",
    "\n",
    "# Sample DataFrame \n",
    "data = {\n",
    "    'Team': ['Detroit Lions', 'Buffalo Bills', 'Minnesota Vikings', 'Green Bay Packers', \n",
    "             'Denver Broncos', 'Kansas City Chiefs', 'Philadelphia Eagles', 'Baltimore Ravens',\n",
    "             'Pittsburgh Steelers', 'Los Angeles Chargers', 'Washington Commanders', \n",
    "             'Houston Texans', 'Tampa Bay Buccaneers', 'Seattle Seahawks', \n",
    "             'Arizona Cardinals', 'Cincinnati Bengals', 'Los Angeles Rams', \n",
    "             'Miami Dolphins', 'San Francisco 49ers', 'New Orleans Saints', \n",
    "             'New York Jets', 'Atlanta Falcons', 'Chicago Bears', \n",
    "             'Indianapolis Colts', 'Dallas Cowboys', 'Tennessee Titans', \n",
    "             'New England Patriots', 'Las Vegas Raiders', 'New York Giants', \n",
    "             'Jacksonville Jaguars', 'Cleveland Browns', 'Carolina Panthers'],\n",
    "    'O_Rank': [1, 2, 9, 7, 10, 11, 8, 3, 12, 18, 4, 13, 5, 15, 14, 6, \n",
    "               17, 23, 16, 22, 24, 19, 26, 21, 20, 25, 30, 29, 32, 28, \n",
    "               31, 27],\n",
    "    'D_Rank': [8, 11, 2, 6, 4, 3, 5, 19, 7, 1, 18, 9, 22, 12, 13, 28, \n",
    "               17, 10, 21, 16, 15, 20, 14, 23, 30, 31, 24, 27, 25, 29, \n",
    "               26, 32],\n",
    "    'Losses': [2, 3, 2, 4, 6, 1, 3, 5, 5, 6, 5, 6, 7, 7, 8, 8, 6, 8,\n",
    "               9, 10, 11, 7, 11, 8, 8, 12, 12, 12, 13, 12, 12, 12]  \n",
    "    }"
   ]
  },
  {
   "cell_type": "code",
   "execution_count": 38,
   "metadata": {},
   "outputs": [],
   "source": [
    "# Calculate Average Rank including Losses\n",
    "df = pd.DataFrame(data)\n",
    "df['Average_Rank'] = (df['O_Rank'] + df['D_Rank'] + df['Losses']) / 3\n",
    "df['New_Rank'] = df['Average_Rank'].rank(method='dense')\n",
    "df = df.sort_values(by='New_Rank').reset_index(drop=True)"
   ]
  },
  {
   "cell_type": "code",
   "execution_count": null,
   "metadata": {},
   "outputs": [],
   "source": [
    "# Print final DataFrame\n",
    "print(df[['Team', 'O_Rank', 'D_Rank', 'Losses', 'Average_Rank', 'New_Rank']])"
   ]
  },
  {
   "cell_type": "code",
   "execution_count": null,
   "metadata": {},
   "outputs": [],
   "source": [
    "df_sorted = df.sort_values(by=['New_Rank', 'O_Rank'])\n",
    "print(df_sorted)"
   ]
  },
  {
   "cell_type": "code",
   "execution_count": 41,
   "metadata": {},
   "outputs": [],
   "source": [
    "df_sorted.to_csv('updated_ranks.csv', index = False)"
   ]
  },
  {
   "cell_type": "code",
   "execution_count": null,
   "metadata": {},
   "outputs": [],
   "source": [
    "# Evaluate AdaBoost Model\n",
    "print(\"AdaBoost Accuracy:\", metrics.accuracy_score(y_train, y_pred_binary))"
   ]
  }
 ],
 "metadata": {
  "kernelspec": {
   "display_name": "myenv",
   "language": "python",
   "name": "python3"
  },
  "language_info": {
   "codemirror_mode": {
    "name": "ipython",
    "version": 3
   },
   "file_extension": ".py",
   "mimetype": "text/x-python",
   "name": "python",
   "nbconvert_exporter": "python",
   "pygments_lexer": "ipython3",
   "version": "3.12.8"
  }
 },
 "nbformat": 4,
 "nbformat_minor": 4
}
